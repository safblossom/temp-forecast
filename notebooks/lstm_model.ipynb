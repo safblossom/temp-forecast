{
 "cells": [
  {
   "cell_type": "markdown",
   "id": "bfedc0ea",
   "metadata": {},
   "source": [
    "## 🌡️ Daily Average Temperature Forecasting using LSTM\n",
    "\n",
    "This notebook presents a deep learning approach to forecast the daily average temperature using a Long Short-Term Memory (LSTM) network.\n",
    "\n",
    "We follow these main steps:\n",
    "- Load and preprocess historical temperature data\n",
    "- Normalize the time series\n",
    "- Prepare the data for supervised learning\n",
    "- Train an LSTM model\n",
    "- Evaluate and visualize the predictions\n",
    "\n",
    "The dataset covers daily average temperatures in **New York City** from January 2000 to December 2024, retrieved using the Meteostat library."
   ]
  },
  {
   "cell_type": "code",
   "execution_count": 289,
   "id": "1146baae",
   "metadata": {},
   "outputs": [],
   "source": [
    "import pandas as pd\n",
    "import numpy as np\n",
    "import matplotlib.pyplot as plt\n",
    "\n",
    "from sklearn.preprocessing import MinMaxScaler\n",
    "from sklearn.metrics import mean_absolute_error, mean_squared_error, r2_score\n",
    "\n",
    "from tensorflow.keras.models import Sequential\n",
    "from tensorflow.keras.layers import LSTM, Dense, Dropout\n",
    "from tensorflow.keras.callbacks import EarlyStopping\n",
    "from tensorflow.keras.optimizers import Adam\n",
    "\n",
    "# Warnings\n",
    "import warnings\n",
    "warnings.filterwarnings('ignore')"
   ]
  },
  {
   "cell_type": "markdown",
   "id": "875d11f8",
   "metadata": {},
   "source": [
    "## 📥 Step 1: Load and Prepare the Dataset\n",
    "\n",
    "We load the historical daily average temperature data, clean and format it, and set the `Time` column as the index for time series analysis."
   ]
  },
  {
   "cell_type": "code",
   "execution_count": 290,
   "id": "9ce4b936",
   "metadata": {},
   "outputs": [
    {
     "name": "stdout",
     "output_type": "stream",
     "text": [
      "<class 'pandas.core.frame.DataFrame'>\n",
      "RangeIndex: 9133 entries, 0 to 9132\n",
      "Data columns (total 2 columns):\n",
      " #   Column  Non-Null Count  Dtype  \n",
      "---  ------  --------------  -----  \n",
      " 0   time    9133 non-null   object \n",
      " 1   tavg    9133 non-null   float64\n",
      "dtypes: float64(1), object(1)\n",
      "memory usage: 142.8+ KB\n"
     ]
    }
   ],
   "source": [
    "df = pd.read_csv('../data/new_york_daily_avg_temp_2005_2025.csv')\n",
    "df.info()"
   ]
  },
  {
   "cell_type": "code",
   "execution_count": 291,
   "id": "8e2d1f02",
   "metadata": {},
   "outputs": [
    {
     "name": "stdout",
     "output_type": "stream",
     "text": [
      "<class 'pandas.core.frame.DataFrame'>\n",
      "DatetimeIndex: 9133 entries, 2000-01-01 to 2025-01-01\n",
      "Data columns (total 1 columns):\n",
      " #   Column  Non-Null Count  Dtype  \n",
      "---  ------  --------------  -----  \n",
      " 0   tavg    9133 non-null   float64\n",
      "dtypes: float64(1)\n",
      "memory usage: 142.7 KB\n"
     ]
    },
    {
     "data": {
      "text/html": [
       "<div>\n",
       "<style scoped>\n",
       "    .dataframe tbody tr th:only-of-type {\n",
       "        vertical-align: middle;\n",
       "    }\n",
       "\n",
       "    .dataframe tbody tr th {\n",
       "        vertical-align: top;\n",
       "    }\n",
       "\n",
       "    .dataframe thead th {\n",
       "        text-align: right;\n",
       "    }\n",
       "</style>\n",
       "<table border=\"1\" class=\"dataframe\">\n",
       "  <thead>\n",
       "    <tr style=\"text-align: right;\">\n",
       "      <th></th>\n",
       "      <th>tavg</th>\n",
       "    </tr>\n",
       "    <tr>\n",
       "      <th>time</th>\n",
       "      <th></th>\n",
       "    </tr>\n",
       "  </thead>\n",
       "  <tbody>\n",
       "    <tr>\n",
       "      <th>2000-01-01</th>\n",
       "      <td>5.0</td>\n",
       "    </tr>\n",
       "    <tr>\n",
       "      <th>2000-01-02</th>\n",
       "      <td>9.4</td>\n",
       "    </tr>\n",
       "    <tr>\n",
       "      <th>2000-01-03</th>\n",
       "      <td>14.4</td>\n",
       "    </tr>\n",
       "    <tr>\n",
       "      <th>2000-01-04</th>\n",
       "      <td>14.4</td>\n",
       "    </tr>\n",
       "    <tr>\n",
       "      <th>2000-01-05</th>\n",
       "      <td>3.9</td>\n",
       "    </tr>\n",
       "    <tr>\n",
       "      <th>2000-01-06</th>\n",
       "      <td>1.1</td>\n",
       "    </tr>\n",
       "    <tr>\n",
       "      <th>2000-01-07</th>\n",
       "      <td>5.6</td>\n",
       "    </tr>\n",
       "    <tr>\n",
       "      <th>2000-01-08</th>\n",
       "      <td>1.1</td>\n",
       "    </tr>\n",
       "    <tr>\n",
       "      <th>2000-01-09</th>\n",
       "      <td>6.1</td>\n",
       "    </tr>\n",
       "    <tr>\n",
       "      <th>2000-01-10</th>\n",
       "      <td>11.1</td>\n",
       "    </tr>\n",
       "  </tbody>\n",
       "</table>\n",
       "</div>"
      ],
      "text/plain": [
       "            tavg\n",
       "time            \n",
       "2000-01-01   5.0\n",
       "2000-01-02   9.4\n",
       "2000-01-03  14.4\n",
       "2000-01-04  14.4\n",
       "2000-01-05   3.9\n",
       "2000-01-06   1.1\n",
       "2000-01-07   5.6\n",
       "2000-01-08   1.1\n",
       "2000-01-09   6.1\n",
       "2000-01-10  11.1"
      ]
     },
     "execution_count": 291,
     "metadata": {},
     "output_type": "execute_result"
    }
   ],
   "source": [
    "df[\"time\"] = pd.to_datetime(df[\"time\"], errors=\"coerce\")\n",
    "df.set_index('time', inplace=True)\n",
    "# df = df[df['tavg'] != 0.0]  # Drop rows with 0.0 values after conversion\n",
    "df.info()\n",
    "df.head(10)"
   ]
  },
  {
   "cell_type": "markdown",
   "id": "77a3fd37",
   "metadata": {},
   "source": [
    "## 🔍 Step 2: Explore the Dataset\n",
    "\n",
    "Let's check the structure and summary statistics of the daily average temperature data to understand it better."
   ]
  },
  {
   "cell_type": "code",
   "execution_count": 292,
   "id": "5acf9832",
   "metadata": {},
   "outputs": [
    {
     "name": "stdout",
     "output_type": "stream",
     "text": [
      "<class 'pandas.core.frame.DataFrame'>\n",
      "DatetimeIndex: 9133 entries, 2000-01-01 to 2025-01-01\n",
      "Data columns (total 1 columns):\n",
      " #   Column  Non-Null Count  Dtype  \n",
      "---  ------  --------------  -----  \n",
      " 0   tavg    9133 non-null   float64\n",
      "dtypes: float64(1)\n",
      "memory usage: 142.7 KB\n"
     ]
    },
    {
     "data": {
      "text/html": [
       "<div>\n",
       "<style scoped>\n",
       "    .dataframe tbody tr th:only-of-type {\n",
       "        vertical-align: middle;\n",
       "    }\n",
       "\n",
       "    .dataframe tbody tr th {\n",
       "        vertical-align: top;\n",
       "    }\n",
       "\n",
       "    .dataframe thead th {\n",
       "        text-align: right;\n",
       "    }\n",
       "</style>\n",
       "<table border=\"1\" class=\"dataframe\">\n",
       "  <thead>\n",
       "    <tr style=\"text-align: right;\">\n",
       "      <th></th>\n",
       "      <th>tavg</th>\n",
       "    </tr>\n",
       "  </thead>\n",
       "  <tbody>\n",
       "    <tr>\n",
       "      <th>count</th>\n",
       "      <td>9133.000000</td>\n",
       "    </tr>\n",
       "    <tr>\n",
       "      <th>mean</th>\n",
       "      <td>13.530789</td>\n",
       "    </tr>\n",
       "    <tr>\n",
       "      <th>std</th>\n",
       "      <td>9.553821</td>\n",
       "    </tr>\n",
       "    <tr>\n",
       "      <th>min</th>\n",
       "      <td>-17.800000</td>\n",
       "    </tr>\n",
       "    <tr>\n",
       "      <th>25%</th>\n",
       "      <td>5.800000</td>\n",
       "    </tr>\n",
       "    <tr>\n",
       "      <th>50%</th>\n",
       "      <td>13.800000</td>\n",
       "    </tr>\n",
       "    <tr>\n",
       "      <th>75%</th>\n",
       "      <td>22.200000</td>\n",
       "    </tr>\n",
       "    <tr>\n",
       "      <th>max</th>\n",
       "      <td>35.800000</td>\n",
       "    </tr>\n",
       "  </tbody>\n",
       "</table>\n",
       "</div>"
      ],
      "text/plain": [
       "              tavg\n",
       "count  9133.000000\n",
       "mean     13.530789\n",
       "std       9.553821\n",
       "min     -17.800000\n",
       "25%       5.800000\n",
       "50%      13.800000\n",
       "75%      22.200000\n",
       "max      35.800000"
      ]
     },
     "execution_count": 292,
     "metadata": {},
     "output_type": "execute_result"
    }
   ],
   "source": [
    "df.info()\n",
    "df.describe()"
   ]
  },
  {
   "cell_type": "markdown",
   "id": "4e7ef99c",
   "metadata": {},
   "source": [
    "## ⚖️ Step 3: Normalize the Data\n",
    "\n",
    "To improve LSTM performance, we normalize the daily average temperature values using MinMaxScaler to scale them into the [0, 1] range."
   ]
  },
  {
   "cell_type": "code",
   "execution_count": 293,
   "id": "ba848771",
   "metadata": {},
   "outputs": [
    {
     "name": "stdout",
     "output_type": "stream",
     "text": [
      "[[0.42537313]\n",
      " [0.50746269]\n",
      " [0.60074627]\n",
      " [0.60074627]\n",
      " [0.40485075]]\n"
     ]
    }
   ],
   "source": [
    "# Initialize the scaler to normalize data between 0 and 1\n",
    "scaler = MinMaxScaler(feature_range=(0, 1))\n",
    "\n",
    "# Fit and transform the daily average temperature data\n",
    "data_scaled = scaler.fit_transform(df['tavg'].values.reshape(-1, 1))\n",
    "\n",
    "# Show the first 5 scaled values\n",
    "print(data_scaled[:5])"
   ]
  },
  {
   "cell_type": "markdown",
   "id": "e18d70c5",
   "metadata": {},
   "source": [
    "## ✂️ Step 4: Train-Test Split\n",
    "\n",
    "We divide the normalized daily average temperature data into 90% training and 10% testing sets to evaluate the model’s performance on unseen data."
   ]
  },
  {
   "cell_type": "code",
   "execution_count": 294,
   "id": "f719aa94",
   "metadata": {},
   "outputs": [
    {
     "name": "stdout",
     "output_type": "stream",
     "text": [
      "Training data size: 8219\n",
      "Test data size: 914\n"
     ]
    }
   ],
   "source": [
    "train_size = int(len(data_scaled) * 0.90)\n",
    "train_data, test_data = data_scaled[:train_size], data_scaled[train_size:]\n",
    "\n",
    "print(f\"Training data size: {len(train_data)}\")\n",
    "print(f\"Test data size: {len(test_data)}\")"
   ]
  },
  {
   "cell_type": "markdown",
   "id": "10a955dc",
   "metadata": {},
   "source": [
    "## 🔁 Step 5: Create Input Sequences\n",
    "\n",
    "We use a sliding window technique to generate input/output pairs for the LSTM model.\n",
    "Here, we use `look_back = 30` , meaning the model will use the past 30 days’ daily average temperatures to predict the next day’s temperature."
   ]
  },
  {
   "cell_type": "code",
   "execution_count": 295,
   "id": "8a89c05c",
   "metadata": {},
   "outputs": [],
   "source": [
    "def get_data(data, look_back):\n",
    "    \"\"\"\n",
    "    Create input-output sequences for LSTM training.\n",
    "    \n",
    "    Parameters:\n",
    "    - data: normalized time series data (numpy array)\n",
    "    - look_back: number of previous time steps to use as input\n",
    "    \n",
    "    Returns:\n",
    "    - datax: input sequences\n",
    "    - datay: corresponding output values\n",
    "    \"\"\"\n",
    "    datax, datay = [], []\n",
    "    for i in range(len(data) - look_back - 1):\n",
    "        datax.append(data[i:(i + look_back), 0])\n",
    "        datay.append(data[i + look_back, 0])\n",
    "    return np.array(datax), np.array(datay)"
   ]
  },
  {
   "cell_type": "code",
   "execution_count": 296,
   "id": "945046ca",
   "metadata": {},
   "outputs": [],
   "source": [
    "look_back = 30\n",
    "x_train, y_train = get_data(train_data, look_back)\n",
    "x_test, y_test = get_data(test_data, look_back)"
   ]
  },
  {
   "cell_type": "markdown",
   "id": "28562c58",
   "metadata": {},
   "source": [
    "## 🔄 Step 6: Reshape Data\n",
    "\n",
    "We reshape the input sequences to match the LSTM model’s expected input shape: `(samples, time_steps, features)`."
   ]
  },
  {
   "cell_type": "code",
   "execution_count": null,
   "id": "728b9650",
   "metadata": {},
   "outputs": [],
   "source": [
    "x_train = x_train.reshape(x_train.shape[0], look_back, 1)\n",
    "x_test = x_test.reshape(x_test.shape[0], look_back, 1)"
   ]
  },
  {
   "cell_type": "markdown",
   "id": "89a3cab2",
   "metadata": {},
   "source": [
    "## 🧠 Step 7: Build the LSTM Model\n",
    "\n",
    "We build a simple yet powerful LSTM model with:\n",
    "- 150 units\n",
    "- ReLu activation\n",
    "- Dropout for regularization to reduce overfitting"
   ]
  },
  {
   "cell_type": "code",
   "execution_count": null,
   "id": "10790215",
   "metadata": {},
   "outputs": [
    {
     "data": {
      "text/html": [
       "<pre style=\"white-space:pre;overflow-x:auto;line-height:normal;font-family:Menlo,'DejaVu Sans Mono',consolas,'Courier New',monospace\"><span style=\"font-weight: bold\">Model: \"sequential_20\"</span>\n",
       "</pre>\n"
      ],
      "text/plain": [
       "\u001B[1mModel: \"sequential_20\"\u001B[0m\n"
      ]
     },
     "metadata": {},
     "output_type": "display_data"
    },
    {
     "data": {
      "text/html": [
       "<pre style=\"white-space:pre;overflow-x:auto;line-height:normal;font-family:Menlo,'DejaVu Sans Mono',consolas,'Courier New',monospace\">┏━━━━━━━━━━━━━━━━━━━━━━━━━━━━━━━━━┳━━━━━━━━━━━━━━━━━━━━━━━━┳━━━━━━━━━━━━━━━┓\n",
       "┃<span style=\"font-weight: bold\"> Layer (type)                    </span>┃<span style=\"font-weight: bold\"> Output Shape           </span>┃<span style=\"font-weight: bold\">       Param # </span>┃\n",
       "┡━━━━━━━━━━━━━━━━━━━━━━━━━━━━━━━━━╇━━━━━━━━━━━━━━━━━━━━━━━━╇━━━━━━━━━━━━━━━┩\n",
       "│ lstm_18 (<span style=\"color: #0087ff; text-decoration-color: #0087ff\">LSTM</span>)                  │ (<span style=\"color: #00d7ff; text-decoration-color: #00d7ff\">None</span>, <span style=\"color: #00af00; text-decoration-color: #00af00\">150</span>)            │        <span style=\"color: #00af00; text-decoration-color: #00af00\">91,200</span> │\n",
       "├─────────────────────────────────┼────────────────────────┼───────────────┤\n",
       "│ dense_18 (<span style=\"color: #0087ff; text-decoration-color: #0087ff\">Dense</span>)                │ (<span style=\"color: #00d7ff; text-decoration-color: #00d7ff\">None</span>, <span style=\"color: #00af00; text-decoration-color: #00af00\">1</span>)              │           <span style=\"color: #00af00; text-decoration-color: #00af00\">151</span> │\n",
       "├─────────────────────────────────┼────────────────────────┼───────────────┤\n",
       "│ dropout_16 (<span style=\"color: #0087ff; text-decoration-color: #0087ff\">Dropout</span>)            │ (<span style=\"color: #00d7ff; text-decoration-color: #00d7ff\">None</span>, <span style=\"color: #00af00; text-decoration-color: #00af00\">1</span>)              │             <span style=\"color: #00af00; text-decoration-color: #00af00\">0</span> │\n",
       "└─────────────────────────────────┴────────────────────────┴───────────────┘\n",
       "</pre>\n"
      ],
      "text/plain": [
       "┏━━━━━━━━━━━━━━━━━━━━━━━━━━━━━━━━━┳━━━━━━━━━━━━━━━━━━━━━━━━┳━━━━━━━━━━━━━━━┓\n",
       "┃\u001B[1m \u001B[0m\u001B[1mLayer (type)                   \u001B[0m\u001B[1m \u001B[0m┃\u001B[1m \u001B[0m\u001B[1mOutput Shape          \u001B[0m\u001B[1m \u001B[0m┃\u001B[1m \u001B[0m\u001B[1m      Param #\u001B[0m\u001B[1m \u001B[0m┃\n",
       "┡━━━━━━━━━━━━━━━━━━━━━━━━━━━━━━━━━╇━━━━━━━━━━━━━━━━━━━━━━━━╇━━━━━━━━━━━━━━━┩\n",
       "│ lstm_18 (\u001B[38;5;33mLSTM\u001B[0m)                  │ (\u001B[38;5;45mNone\u001B[0m, \u001B[38;5;34m150\u001B[0m)            │        \u001B[38;5;34m91,200\u001B[0m │\n",
       "├─────────────────────────────────┼────────────────────────┼───────────────┤\n",
       "│ dense_18 (\u001B[38;5;33mDense\u001B[0m)                │ (\u001B[38;5;45mNone\u001B[0m, \u001B[38;5;34m1\u001B[0m)              │           \u001B[38;5;34m151\u001B[0m │\n",
       "├─────────────────────────────────┼────────────────────────┼───────────────┤\n",
       "│ dropout_16 (\u001B[38;5;33mDropout\u001B[0m)            │ (\u001B[38;5;45mNone\u001B[0m, \u001B[38;5;34m1\u001B[0m)              │             \u001B[38;5;34m0\u001B[0m │\n",
       "└─────────────────────────────────┴────────────────────────┴───────────────┘\n"
      ]
     },
     "metadata": {},
     "output_type": "display_data"
    },
    {
     "data": {
      "text/html": [
       "<pre style=\"white-space:pre;overflow-x:auto;line-height:normal;font-family:Menlo,'DejaVu Sans Mono',consolas,'Courier New',monospace\"><span style=\"font-weight: bold\"> Total params: </span><span style=\"color: #00af00; text-decoration-color: #00af00\">91,351</span> (356.84 KB)\n",
       "</pre>\n"
      ],
      "text/plain": [
       "\u001B[1m Total params: \u001B[0m\u001B[38;5;34m91,351\u001B[0m (356.84 KB)\n"
      ]
     },
     "metadata": {},
     "output_type": "display_data"
    },
    {
     "data": {
      "text/html": [
       "<pre style=\"white-space:pre;overflow-x:auto;line-height:normal;font-family:Menlo,'DejaVu Sans Mono',consolas,'Courier New',monospace\"><span style=\"font-weight: bold\"> Trainable params: </span><span style=\"color: #00af00; text-decoration-color: #00af00\">91,351</span> (356.84 KB)\n",
       "</pre>\n"
      ],
      "text/plain": [
       "\u001B[1m Trainable params: \u001B[0m\u001B[38;5;34m91,351\u001B[0m (356.84 KB)\n"
      ]
     },
     "metadata": {},
     "output_type": "display_data"
    },
    {
     "data": {
      "text/html": [
       "<pre style=\"white-space:pre;overflow-x:auto;line-height:normal;font-family:Menlo,'DejaVu Sans Mono',consolas,'Courier New',monospace\"><span style=\"font-weight: bold\"> Non-trainable params: </span><span style=\"color: #00af00; text-decoration-color: #00af00\">0</span> (0.00 B)\n",
       "</pre>\n"
      ],
      "text/plain": [
       "\u001B[1m Non-trainable params: \u001B[0m\u001B[38;5;34m0\u001B[0m (0.00 B)\n"
      ]
     },
     "metadata": {},
     "output_type": "display_data"
    }
   ],
   "source": [
    "model = Sequential()\n",
    "model.add(LSTM(150, activation='relu',  input_shape=(look_back, 1)))\n",
    "model.add(Dense(1, activation='linear'))\n",
    "model.add(Dropout(0.0002))\n",
    "model.summary()"
   ]
  },
  {
   "cell_type": "markdown",
   "id": "805e71a3",
   "metadata": {},
   "source": [
    "## ⚙️ Step 8: Compile and Train the Model\n",
    "\n",
    "We use the Adam optimizer and Mean Squared Error (MSE) as the loss function.  \n",
    "Training incorporates EarlyStopping to prevent overfitting and improve generalization."
   ]
  },
  {
   "cell_type": "code",
   "execution_count": 299,
   "id": "d2c61ff7",
   "metadata": {},
   "outputs": [
    {
     "name": "stdout",
     "output_type": "stream",
     "text": [
      "Epoch 1/50\n",
      "\u001B[1m256/256\u001B[0m \u001B[32m━━━━━━━━━━━━━━━━━━━━\u001B[0m\u001B[37m\u001B[0m \u001B[1m19s\u001B[0m 63ms/step - loss: 0.0438 - val_loss: 0.0038\n",
      "Epoch 2/50\n",
      "\u001B[1m256/256\u001B[0m \u001B[32m━━━━━━━━━━━━━━━━━━━━\u001B[0m\u001B[37m\u001B[0m \u001B[1m17s\u001B[0m 65ms/step - loss: 0.0055 - val_loss: 0.0035\n",
      "Epoch 3/50\n",
      "\u001B[1m256/256\u001B[0m \u001B[32m━━━━━━━━━━━━━━━━━━━━\u001B[0m\u001B[37m\u001B[0m \u001B[1m17s\u001B[0m 67ms/step - loss: 0.0052 - val_loss: 0.0040\n",
      "Epoch 4/50\n",
      "\u001B[1m256/256\u001B[0m \u001B[32m━━━━━━━━━━━━━━━━━━━━\u001B[0m\u001B[37m\u001B[0m \u001B[1m14s\u001B[0m 53ms/step - loss: 0.0050 - val_loss: 0.0033\n",
      "Epoch 5/50\n",
      "\u001B[1m256/256\u001B[0m \u001B[32m━━━━━━━━━━━━━━━━━━━━\u001B[0m\u001B[37m\u001B[0m \u001B[1m15s\u001B[0m 60ms/step - loss: 0.0045 - val_loss: 0.0030\n",
      "Epoch 6/50\n",
      "\u001B[1m256/256\u001B[0m \u001B[32m━━━━━━━━━━━━━━━━━━━━\u001B[0m\u001B[37m\u001B[0m \u001B[1m14s\u001B[0m 53ms/step - loss: 0.0041 - val_loss: 0.0024\n",
      "Epoch 7/50\n",
      "\u001B[1m256/256\u001B[0m \u001B[32m━━━━━━━━━━━━━━━━━━━━\u001B[0m\u001B[37m\u001B[0m \u001B[1m11s\u001B[0m 44ms/step - loss: 0.0036 - val_loss: 0.0026\n",
      "Epoch 8/50\n",
      "\u001B[1m256/256\u001B[0m \u001B[32m━━━━━━━━━━━━━━━━━━━━\u001B[0m\u001B[37m\u001B[0m \u001B[1m13s\u001B[0m 50ms/step - loss: 0.0035 - val_loss: 0.0026\n",
      "Epoch 9/50\n",
      "\u001B[1m256/256\u001B[0m \u001B[32m━━━━━━━━━━━━━━━━━━━━\u001B[0m\u001B[37m\u001B[0m \u001B[1m12s\u001B[0m 47ms/step - loss: 0.0033 - val_loss: 0.0025\n",
      "Epoch 10/50\n",
      "\u001B[1m256/256\u001B[0m \u001B[32m━━━━━━━━━━━━━━━━━━━━\u001B[0m\u001B[37m\u001B[0m \u001B[1m12s\u001B[0m 46ms/step - loss: 0.0032 - val_loss: 0.0020\n",
      "Epoch 11/50\n",
      "\u001B[1m256/256\u001B[0m \u001B[32m━━━━━━━━━━━━━━━━━━━━\u001B[0m\u001B[37m\u001B[0m \u001B[1m12s\u001B[0m 45ms/step - loss: 0.0031 - val_loss: 0.0020\n",
      "Epoch 12/50\n",
      "\u001B[1m256/256\u001B[0m \u001B[32m━━━━━━━━━━━━━━━━━━━━\u001B[0m\u001B[37m\u001B[0m \u001B[1m12s\u001B[0m 47ms/step - loss: 0.0033 - val_loss: 0.0023\n",
      "Epoch 13/50\n",
      "\u001B[1m256/256\u001B[0m \u001B[32m━━━━━━━━━━━━━━━━━━━━\u001B[0m\u001B[37m\u001B[0m \u001B[1m11s\u001B[0m 44ms/step - loss: 0.0033 - val_loss: 0.0022\n",
      "Epoch 14/50\n",
      "\u001B[1m256/256\u001B[0m \u001B[32m━━━━━━━━━━━━━━━━━━━━\u001B[0m\u001B[37m\u001B[0m \u001B[1m13s\u001B[0m 49ms/step - loss: 0.0033 - val_loss: 0.0020\n",
      "Epoch 15/50\n",
      "\u001B[1m256/256\u001B[0m \u001B[32m━━━━━━━━━━━━━━━━━━━━\u001B[0m\u001B[37m\u001B[0m \u001B[1m14s\u001B[0m 54ms/step - loss: 0.0032 - val_loss: 0.0020\n",
      "Epoch 16/50\n",
      "\u001B[1m256/256\u001B[0m \u001B[32m━━━━━━━━━━━━━━━━━━━━\u001B[0m\u001B[37m\u001B[0m \u001B[1m14s\u001B[0m 54ms/step - loss: 0.0033 - val_loss: 0.0020\n",
      "Epoch 17/50\n",
      "\u001B[1m256/256\u001B[0m \u001B[32m━━━━━━━━━━━━━━━━━━━━\u001B[0m\u001B[37m\u001B[0m \u001B[1m14s\u001B[0m 54ms/step - loss: 0.0031 - val_loss: 0.0020\n",
      "Epoch 18/50\n",
      "\u001B[1m256/256\u001B[0m \u001B[32m━━━━━━━━━━━━━━━━━━━━\u001B[0m\u001B[37m\u001B[0m \u001B[1m14s\u001B[0m 56ms/step - loss: 0.0032 - val_loss: 0.0025\n",
      "Epoch 19/50\n",
      "\u001B[1m256/256\u001B[0m \u001B[32m━━━━━━━━━━━━━━━━━━━━\u001B[0m\u001B[37m\u001B[0m \u001B[1m13s\u001B[0m 49ms/step - loss: 0.0032 - val_loss: 0.0021\n",
      "Epoch 20/50\n",
      "\u001B[1m256/256\u001B[0m \u001B[32m━━━━━━━━━━━━━━━━━━━━\u001B[0m\u001B[37m\u001B[0m \u001B[1m12s\u001B[0m 45ms/step - loss: 0.0032 - val_loss: 0.0020\n",
      "Epoch 21/50\n",
      "\u001B[1m256/256\u001B[0m \u001B[32m━━━━━━━━━━━━━━━━━━━━\u001B[0m\u001B[37m\u001B[0m \u001B[1m10s\u001B[0m 40ms/step - loss: 0.0031 - val_loss: 0.0020\n",
      "Epoch 22/50\n",
      "\u001B[1m256/256\u001B[0m \u001B[32m━━━━━━━━━━━━━━━━━━━━\u001B[0m\u001B[37m\u001B[0m \u001B[1m11s\u001B[0m 42ms/step - loss: 0.0034 - val_loss: 0.0020\n",
      "Epoch 23/50\n",
      "\u001B[1m256/256\u001B[0m \u001B[32m━━━━━━━━━━━━━━━━━━━━\u001B[0m\u001B[37m\u001B[0m \u001B[1m11s\u001B[0m 42ms/step - loss: 0.0037 - val_loss: 0.0020\n",
      "Epoch 24/50\n",
      "\u001B[1m256/256\u001B[0m \u001B[32m━━━━━━━━━━━━━━━━━━━━\u001B[0m\u001B[37m\u001B[0m \u001B[1m11s\u001B[0m 42ms/step - loss: 0.0032 - val_loss: 0.0021\n",
      "Epoch 25/50\n",
      "\u001B[1m256/256\u001B[0m \u001B[32m━━━━━━━━━━━━━━━━━━━━\u001B[0m\u001B[37m\u001B[0m \u001B[1m9s\u001B[0m 35ms/step - loss: 0.0035 - val_loss: 0.0020\n",
      "Epoch 26/50\n",
      "\u001B[1m256/256\u001B[0m \u001B[32m━━━━━━━━━━━━━━━━━━━━\u001B[0m\u001B[37m\u001B[0m \u001B[1m12s\u001B[0m 46ms/step - loss: 0.0035 - val_loss: 0.0022\n"
     ]
    },
    {
     "data": {
      "text/plain": [
       "<keras.src.callbacks.history.History at 0x161de6f7dd0>"
      ]
     },
     "execution_count": 299,
     "metadata": {},
     "output_type": "execute_result"
    }
   ],
   "source": [
    "# Compile the LSTM model with Adam optimizer and MSE loss\n",
    "model.compile(optimizer=Adam(learning_rate=0.001), loss='mean_squared_error')\n",
    "\n",
    "# Train the model with early stopping to prevent overfitting\n",
    "model.fit(\n",
    "    x_train,\n",
    "    y_train,\n",
    "    epochs=50,\n",
    "    batch_size=32,\n",
    "    validation_data=(x_test, y_test),\n",
    "    callbacks=[EarlyStopping(monitor='val_loss', patience=5, restore_best_weights=True)],\n",
    "    verbose=1\n",
    "    )"
   ]
  },
  {
   "cell_type": "markdown",
   "id": "d56dd157",
   "metadata": {},
   "source": [
    "## 🔍 Step 9: Make Predictions and Invert Scaling\n",
    "\n",
    "After training, we predict daily average temperatures on the test set and invert the normalization to interpret the results in actual temperature units."
   ]
  },
  {
   "cell_type": "code",
   "execution_count": 300,
   "id": "153b8472",
   "metadata": {},
   "outputs": [
    {
     "name": "stdout",
     "output_type": "stream",
     "text": [
      "\u001B[1m28/28\u001B[0m \u001B[32m━━━━━━━━━━━━━━━━━━━━\u001B[0m\u001B[37m\u001B[0m \u001B[1m2s\u001B[0m 39ms/step\n",
      "Predicted temperatures (first 10): [24.25659  27.344152 25.03189  27.603405 26.622282 27.831799 27.536701\n",
      " 28.524841 29.347599 26.292284]\n",
      "Actual temperatures (first 10): [26.7 25.7 27.4 27.5 28.3 28.5 29.4 30.7 27.6 26.7]\n"
     ]
    }
   ],
   "source": [
    "# Predict daily average temperatures on the test set\n",
    "y_pred = model.predict(x_test)\n",
    "\n",
    "# Invert scaling to get predictions back to original temperature units\n",
    "y_pred = scaler.inverse_transform(y_pred)\n",
    "\n",
    "# Reshape y_test and invert its scaling for comparison\n",
    "y_test = np.array(y_test).reshape(-1, 1)\n",
    "y_test = scaler.inverse_transform(y_test)\n",
    "\n",
    "# Display first 10 predicted and actual values\n",
    "print(\"Predicted temperatures (first 10):\", y_pred[:10].flatten())\n",
    "print(\"Actual temperatures (first 10):\", y_test[:10].flatten())"
   ]
  },
  {
   "cell_type": "markdown",
   "id": "400005a8",
   "metadata": {},
   "source": [
    "## 📊 Step 10: Visualize Results\n",
    "\n",
    "We plot the actual vs predicted daily average temperatures to visually evaluate the performance of our LSTM model."
   ]
  },
  {
   "cell_type": "code",
   "execution_count": 301,
   "id": "b2d4639b",
   "metadata": {},
   "outputs": [
    {
     "data": {
      "image/png": "[encoded data removed]",
      "text/plain": [
       "<Figure size 1200x600 with 1 Axes>"
      ]
     },
     "metadata": {},
     "output_type": "display_data"
    }
   ],
   "source": [
    "plt.figure(figsize=(12, 6))\n",
    "\n",
    "# Plot actual temperatures\n",
    "plt.plot(df.index[-len(y_test):], y_test, label=\"Actual\", color='g')\n",
    "\n",
    "# Plot predicted temperatures\n",
    "plt.plot(df.index[-len(y_test):], y_pred, label=\"Predicted\", color='r')\n",
    "\n",
    "plt.title(\"Daily Average Temperature Prediction with LSTM\")\n",
    "plt.xlabel(\"Date\")\n",
    "plt.ylabel(\"Temperature (°C)\")\n",
    "plt.legend()\n",
    "plt.grid(True)\n",
    "plt.show()"
   ]
  },
  {
   "cell_type": "markdown",
   "id": "5fac0548",
   "metadata": {},
   "source": [
    "## 📐 Step 11: Evaluate Model Performance\n",
    "\n",
    "We compute the following evaluation metrics:\n",
    "- MAE (Mean Absolute Error)\n",
    "- MSE (Mean Squared Error)\n",
    "- RMSE (Root Mean Squared Error)\n",
    "- R² (The R-squared score)\n",
    "- Precision = R² * 100"
   ]
  },
  {
   "cell_type": "code",
   "execution_count": null,
   "id": "cd896b6e",
   "metadata": {},
   "outputs": [
    {
     "name": "stdout",
     "output_type": "stream",
     "text": [
      "Mean Absolute Error (MAE): 1.8307\n",
      "Mean Squared Error (MSE): 5.7049\n",
      "Root Mean Squared Error (RMSE): 2.3885\n",
      "The R-squared score (R²): 0.9195\n",
      "Precision: 91.95%\n"
     ]
    }
   ],
   "source": [
    "mae = mean_absolute_error(y_test, y_pred)\n",
    "mse = mean_squared_error(y_test, y_pred)\n",
    "rmse = np.sqrt(mse)\n",
    "mape = np.mean(np.abs((y_test - y_pred) / y_test)) * 100\n",
    "accuracy = 100 - mape\n",
    "r2 = r2_score(y_test, y_pred)\n",
    "precision = r2 * 100\n",
    "\n",
    "print(f'Mean Absolute Error (MAE): {mae:.4f}')\n",
    "print(f'Mean Squared Error (MSE): {mse:.4f}')\n",
    "print(f'Root Mean Squared Error (RMSE): {rmse:.4f}')\n",
    "print(f'The R-squared score (R²): {r2:.4f}')\n",
    "print(f'Precision: {precision:.2f}%')"
   ]
  },
  {
   "cell_type": "code",
   "execution_count": null,
   "id": "4e97bccf",
   "metadata": {},
   "outputs": [],
   "source": []
  }
 ],
 "metadata": {
  "kernelspec": {
   "display_name": "Python 3",
   "language": "python",
   "name": "python3"
  },
  "language_info": {
   "codemirror_mode": {
    "name": "ipython",
    "version": 3
   },
   "file_extension": ".py",
   "mimetype": "text/x-python",
   "name": "python",
   "nbconvert_exporter": "python",
   "pygments_lexer": "ipython3",
   "version": "3.11.9"
  }
 },
 "nbformat": 4,
 "nbformat_minor": 5
}
